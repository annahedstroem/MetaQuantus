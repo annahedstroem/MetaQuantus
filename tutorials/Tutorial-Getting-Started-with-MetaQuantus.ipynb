{
 "cells": [
  {
   "cell_type": "markdown",
   "id": "54b229be",
   "metadata": {},
   "source": [
    "# Getting Started with MetaQuantus\n",
    "\n",
    "This notebook gives the instructions for how to get started with MetaQuantus, with methods explained in the paper:\n",
    "\n",
    "[**The Meta-Evaluation Problem in Explainable AI:\n",
    "Identifying Reliable Estimators with MetaQuantus**](https://arxiv.org/abs/2302.07265)\n",
    "\n",
    "If you want to reproduce the experiments in the paper, please see the separate notebook **Tutorial-Reproduce-Experiments.ipynb**.\n",
    "\n",
    "We will use the cMNIST dataset and a ResNet-9 model for demonstration. Make sure to have GPU enabled for performance gains."
   ]
  },
  {
   "cell_type": "code",
   "execution_count": 1,
   "id": "dd22b2b2",
   "metadata": {
    "scrolled": true
   },
   "outputs": [
    {
     "name": "stdout",
     "output_type": "stream",
     "text": [
      "\u001b[33mDEPRECATION: Configuring installation scheme with distutils config files is deprecated and will no longer work in the near future. If you are using a Homebrew or Linuxbrew Python, please see discussion at https://github.com/Homebrew/homebrew-core/issues/76621\u001b[0m\u001b[33m\n",
      "\u001b[0mRequirement already satisfied: cachetools==5.3.1 in /usr/local/lib/python3.9/site-packages (from -r ../requirements.txt (line 1)) (5.3.1)\n",
      "Requirement already satisfied: captum>=0.6.0 in /usr/local/lib/python3.9/site-packages (from -r ../requirements.txt (line 2)) (0.6.0)\n",
      "Requirement already satisfied: timm>=0.6.12 in /usr/local/lib/python3.9/site-packages (from -r ../requirements.txt (line 3)) (0.9.7)\n",
      "Requirement already satisfied: torch>=2.0.0 in /usr/local/lib/python3.9/site-packages (from -r ../requirements.txt (line 4)) (2.0.1)\n",
      "Requirement already satisfied: torchvision>=0.15.1 in /usr/local/lib/python3.9/site-packages (from -r ../requirements.txt (line 5)) (0.15.2)\n",
      "Requirement already satisfied: pandas>=1.3.5 in /usr/local/lib/python3.9/site-packages (from -r ../requirements.txt (line 6)) (1.4.2)\n",
      "Requirement already satisfied: quantus>=0.4.3 in /usr/local/lib/python3.9/site-packages (from -r ../requirements.txt (line 7)) (0.4.3)\n",
      "Requirement already satisfied: matplotlib in /usr/local/lib/python3.9/site-packages (from captum>=0.6.0->-r ../requirements.txt (line 2)) (3.5.1)\n",
      "Requirement already satisfied: numpy in /usr/local/lib/python3.9/site-packages (from captum>=0.6.0->-r ../requirements.txt (line 2)) (1.21.5)\n",
      "Requirement already satisfied: huggingface-hub in /usr/local/lib/python3.9/site-packages (from timm>=0.6.12->-r ../requirements.txt (line 3)) (0.6.0)\n",
      "Requirement already satisfied: pyyaml in /usr/local/lib/python3.9/site-packages (from timm>=0.6.12->-r ../requirements.txt (line 3)) (5.4.1)\n",
      "Requirement already satisfied: safetensors in /usr/local/lib/python3.9/site-packages (from timm>=0.6.12->-r ../requirements.txt (line 3)) (0.3.3)\n",
      "Requirement already satisfied: filelock in /usr/local/lib/python3.9/site-packages (from torch>=2.0.0->-r ../requirements.txt (line 4)) (3.4.0)\n",
      "Requirement already satisfied: jinja2 in /usr/local/lib/python3.9/site-packages (from torch>=2.0.0->-r ../requirements.txt (line 4)) (3.0.3)\n",
      "Requirement already satisfied: networkx in /usr/local/lib/python3.9/site-packages (from torch>=2.0.0->-r ../requirements.txt (line 4)) (3.1)\n",
      "Requirement already satisfied: sympy in /usr/local/lib/python3.9/site-packages (from torch>=2.0.0->-r ../requirements.txt (line 4)) (1.12)\n",
      "Requirement already satisfied: typing-extensions in /usr/local/lib/python3.9/site-packages (from torch>=2.0.0->-r ../requirements.txt (line 4)) (4.7.1)\n",
      "Requirement already satisfied: requests in /usr/local/lib/python3.9/site-packages (from torchvision>=0.15.1->-r ../requirements.txt (line 5)) (2.26.0)\n",
      "Requirement already satisfied: pillow!=8.3.*,>=5.3.0 in /usr/local/lib/python3.9/site-packages (from torchvision>=0.15.1->-r ../requirements.txt (line 5)) (9.1.0)\n",
      "Requirement already satisfied: pytz>=2020.1 in /usr/local/lib/python3.9/site-packages (from pandas>=1.3.5->-r ../requirements.txt (line 6)) (2021.3)\n",
      "Requirement already satisfied: python-dateutil>=2.8.1 in /usr/local/lib/python3.9/site-packages (from pandas>=1.3.5->-r ../requirements.txt (line 6)) (2.8.2)\n",
      "Requirement already satisfied: scikit-learn>=0.24.2 in /usr/local/lib/python3.9/site-packages (from quantus>=0.4.3->-r ../requirements.txt (line 7)) (1.1.0)\n",
      "Requirement already satisfied: scikit-image>=0.19.3 in /usr/local/lib/python3.9/site-packages (from quantus>=0.4.3->-r ../requirements.txt (line 7)) (0.21.0)\n",
      "Requirement already satisfied: tqdm>=4.62.3 in /usr/local/lib/python3.9/site-packages (from quantus>=0.4.3->-r ../requirements.txt (line 7)) (4.64.0)\n",
      "Requirement already satisfied: opencv-python>=4.5.5.62 in /usr/local/lib/python3.9/site-packages (from quantus>=0.4.3->-r ../requirements.txt (line 7)) (4.5.5.62)\n",
      "Requirement already satisfied: scipy>=1.7.3 in /usr/local/lib/python3.9/site-packages (from quantus>=0.4.3->-r ../requirements.txt (line 7)) (1.8.0)\n",
      "Requirement already satisfied: packaging>=20.0 in /usr/local/lib/python3.9/site-packages (from matplotlib->captum>=0.6.0->-r ../requirements.txt (line 2)) (21.3)\n",
      "Requirement already satisfied: fonttools>=4.22.0 in /usr/local/lib/python3.9/site-packages (from matplotlib->captum>=0.6.0->-r ../requirements.txt (line 2)) (4.28.5)\n",
      "Requirement already satisfied: cycler>=0.10 in /usr/local/lib/python3.9/site-packages (from matplotlib->captum>=0.6.0->-r ../requirements.txt (line 2)) (0.11.0)\n",
      "Requirement already satisfied: kiwisolver>=1.0.1 in /usr/local/lib/python3.9/site-packages (from matplotlib->captum>=0.6.0->-r ../requirements.txt (line 2)) (1.3.2)\n",
      "Requirement already satisfied: pyparsing>=2.2.1 in /usr/local/lib/python3.9/site-packages (from matplotlib->captum>=0.6.0->-r ../requirements.txt (line 2)) (3.0.6)\n",
      "Requirement already satisfied: six>=1.5 in /usr/local/lib/python3.9/site-packages (from python-dateutil>=2.8.1->pandas>=1.3.5->-r ../requirements.txt (line 6)) (1.16.0)\n",
      "Requirement already satisfied: tifffile>=2022.8.12 in /usr/local/lib/python3.9/site-packages (from scikit-image>=0.19.3->quantus>=0.4.3->-r ../requirements.txt (line 7)) (2023.4.12)\n",
      "Requirement already satisfied: PyWavelets>=1.1.1 in /usr/local/lib/python3.9/site-packages (from scikit-image>=0.19.3->quantus>=0.4.3->-r ../requirements.txt (line 7)) (1.2.0)\n",
      "Requirement already satisfied: lazy_loader>=0.2 in /usr/local/lib/python3.9/site-packages (from scikit-image>=0.19.3->quantus>=0.4.3->-r ../requirements.txt (line 7)) (0.3)\n",
      "Requirement already satisfied: imageio>=2.27 in /usr/local/lib/python3.9/site-packages (from scikit-image>=0.19.3->quantus>=0.4.3->-r ../requirements.txt (line 7)) (2.31.1)\n",
      "Requirement already satisfied: threadpoolctl>=2.0.0 in /usr/local/lib/python3.9/site-packages (from scikit-learn>=0.24.2->quantus>=0.4.3->-r ../requirements.txt (line 7)) (3.1.0)\n",
      "Requirement already satisfied: joblib>=1.0.0 in /usr/local/lib/python3.9/site-packages (from scikit-learn>=0.24.2->quantus>=0.4.3->-r ../requirements.txt (line 7)) (1.1.0)\n",
      "Requirement already satisfied: MarkupSafe>=2.0 in /usr/local/lib/python3.9/site-packages (from jinja2->torch>=2.0.0->-r ../requirements.txt (line 4)) (2.0.1)\n",
      "Requirement already satisfied: charset-normalizer~=2.0.0 in /usr/local/lib/python3.9/site-packages (from requests->torchvision>=0.15.1->-r ../requirements.txt (line 5)) (2.0.9)\n",
      "Requirement already satisfied: idna<4,>=2.5 in /usr/local/lib/python3.9/site-packages (from requests->torchvision>=0.15.1->-r ../requirements.txt (line 5)) (3.3)\n",
      "Requirement already satisfied: certifi>=2017.4.17 in /usr/local/lib/python3.9/site-packages (from requests->torchvision>=0.15.1->-r ../requirements.txt (line 5)) (2021.10.8)\n",
      "Requirement already satisfied: urllib3<1.27,>=1.21.1 in /usr/local/lib/python3.9/site-packages (from requests->torchvision>=0.15.1->-r ../requirements.txt (line 5)) (1.26.12)\n",
      "Requirement already satisfied: mpmath>=0.19 in /usr/local/lib/python3.9/site-packages (from sympy->torch>=2.0.0->-r ../requirements.txt (line 4)) (1.3.0)\n",
      "\u001b[33mDEPRECATION: Configuring installation scheme with distutils config files is deprecated and will no longer work in the near future. If you are using a Homebrew or Linuxbrew Python, please see discussion at https://github.com/Homebrew/homebrew-core/issues/76621\u001b[0m\u001b[33m\n",
      "\u001b[0m\n",
      "\u001b[1m[\u001b[0m\u001b[34;49mnotice\u001b[0m\u001b[1;39;49m]\u001b[0m\u001b[39;49m A new release of pip available: \u001b[0m\u001b[31;49m22.3.1\u001b[0m\u001b[39;49m -> \u001b[0m\u001b[32;49m23.2.1\u001b[0m\n",
      "\u001b[1m[\u001b[0m\u001b[34;49mnotice\u001b[0m\u001b[1;39;49m]\u001b[0m\u001b[39;49m To update, run: \u001b[0m\u001b[32;49mpython3.9 -m pip install --upgrade pip\u001b[0m\n"
     ]
    }
   ],
   "source": [
    "!pip install -r ../requirements.txt"
   ]
  },
  {
   "cell_type": "code",
   "execution_count": 2,
   "id": "32e301ea",
   "metadata": {},
   "outputs": [
    {
     "name": "stdout",
     "output_type": "stream",
     "text": [
      "No GPU enabled.\n"
     ]
    }
   ],
   "source": [
    "# Import libraries.\n",
    "from IPython.display import clear_output\n",
    "import sys\n",
    "from pathlib import Path\n",
    "import numpy as np\n",
    "import pandas as pd\n",
    "import matplotlib\n",
    "import matplotlib.pyplot as plt\n",
    "import warnings\n",
    "import torch\n",
    "import captum \n",
    "import quantus\n",
    "warnings.filterwarnings(\"ignore\", category=UserWarning)\n",
    "clear_output()\n",
    "\n",
    "device = torch.device(\"cuda:0\" if torch.cuda.is_available() else \"cpu\")\n",
    "try:\n",
    "    print('Using device:', torch.cuda.get_device_name(0))\n",
    "    !nvidia-smi\n",
    "except:\n",
    "    print(\"No GPU enabled.\")"
   ]
  },
  {
   "cell_type": "code",
   "execution_count": 3,
   "id": "be694a8a",
   "metadata": {},
   "outputs": [],
   "source": [
    "# Set paths.\n",
    "PATH_ASSETS = \"../assets/\"\n",
    "PATH_DATA = PATH_ASSETS + \"data/\"\n",
    "\n",
    "# Import local packages.\n",
    "path = \"../../\"\n",
    "sys.path.append(f'{path}/MetaQuantus')\n",
    "import metaquantus"
   ]
  },
  {
   "cell_type": "markdown",
   "id": "3b1793ef",
   "metadata": {},
   "source": [
    "Run below cell if Google Colab is used."
   ]
  },
  {
   "cell_type": "code",
   "execution_count": 5,
   "id": "d2f336f7",
   "metadata": {},
   "outputs": [],
   "source": [
    "colab = False\n",
    "\n",
    "if colab:\n",
    "    # To access local files, we need to mount Google Drive.\n",
    "    from google.colab import drive\n",
    "    drive.mount('/content/drive', force_remount=True)\n",
    "\n",
    "    # Set paths.\n",
    "    PATH_ASSETS = \"/content/drive/MyDrive/Projects/MetaQuantus/assets/\"\n",
    "    PATH_DATA = PATH_ASSETS + \"data/\"\n",
    "\n",
    "    # Import local packages.\n",
    "    import sys\n",
    "    path = \"/content/drive/MyDrive/Projects\"\n",
    "    sys.path.append(f'{path}/MetaQuantus')\n",
    "    import metaquantus"
   ]
  },
  {
   "cell_type": "markdown",
   "id": "a3d52ba1",
   "metadata": {},
   "source": [
    "## 1) Preliminaries"
   ]
  },
  {
   "cell_type": "code",
   "execution_count": 6,
   "id": "bbe9178d",
   "metadata": {},
   "outputs": [],
   "source": [
    "from metaquantus import setup_dataset_models, setup_xai_settings, setup_estimators"
   ]
  },
  {
   "cell_type": "markdown",
   "id": "344f9191",
   "metadata": {},
   "source": [
    "### 1.1 Load data"
   ]
  },
  {
   "cell_type": "code",
   "execution_count": 7,
   "id": "0be7364a",
   "metadata": {},
   "outputs": [
    {
     "data": {
      "image/png": "[encoded data removed]",
      "text/plain": [
       "<Figure size 1200x400 with 5 Axes>"
      ]
     },
     "metadata": {},
     "output_type": "display_data"
    }
   ],
   "source": [
    "# Load data.\n",
    "dataset_name = \"MNIST\"\n",
    "device = torch.device(\"cuda\" if torch.cuda.is_available() else \"cpu\")\n",
    "\n",
    "# Get input, outputs settings.\n",
    "dataset_settings, model_name = setup_dataset_models(\n",
    "    dataset_name=dataset_name, path_assets=PATH_ASSETS, device=device\n",
    ")\n",
    "dataset_kwargs = dataset_settings[dataset_name][\"estimator_kwargs\"]\n",
    "\n",
    "model = dataset_settings[dataset_name][\"models\"][\"LeNet\"].eval()\n",
    "x_batch = dataset_settings[dataset_name][\"x_batch\"]\n",
    "y_batch = dataset_settings[dataset_name][\"y_batch\"]\n",
    "s_batch = dataset_settings[dataset_name][\"s_batch\"]\n",
    "\n",
    "# Plot the data!\n",
    "fix, ax = plt.subplots(1, 5, figsize=(12, 4))\n",
    "for i in range(5): \n",
    "    ax[i].imshow(np.moveaxis(x_batch[i], 0, -1).reshape(28, 28, 1), cmap=\"gray_r\")\n",
    "    ax[i].axis(\"off\")\n",
    "plt.show()"
   ]
  },
  {
   "cell_type": "markdown",
   "id": "1956156c",
   "metadata": {},
   "source": [
    "### 1.2 Load explanations"
   ]
  },
  {
   "cell_type": "code",
   "execution_count": 8,
   "id": "deddd7a2",
   "metadata": {},
   "outputs": [
    {
     "data": {
      "text/plain": [
       "{'LayerGradCam': {'gc_layer': 'list(model.named_modules())[3][1]',\n",
       "  'interpolate': (28, 28),\n",
       "  'interpolate_mode': 'bilinear'},\n",
       " 'Saliency': {}}"
      ]
     },
     "execution_count": 8,
     "metadata": {},
     "output_type": "execute_result"
    }
   ],
   "source": [
    "# Load explanations.\n",
    "xai_setting = [\"LayerGradCam\", \"Saliency\"]\n",
    "xai_methods = setup_xai_settings(\n",
    "    xai_settings=xai_setting,\n",
    "    gc_layer=dataset_settings[dataset_name][\"gc_layers\"][model_name],\n",
    "    img_size=dataset_kwargs[\"img_size\"],\n",
    "    nr_channels=dataset_kwargs[\"nr_channels\"],\n",
    ")\n",
    "\n",
    "# Generate explanations.\n",
    "explanations = {}\n",
    "for method, kwargs in xai_methods.items():\n",
    "    model = dataset_settings[dataset_name][\"models\"][\"LeNet\"].eval().cpu()\n",
    "    explanations[method] = quantus.explain(model=model, inputs=x_batch[:5], targets=y_batch[:5], **{**{\"method\": method}, **kwargs})\n",
    "\n",
    "xai_methods"
   ]
  },
  {
   "cell_type": "markdown",
   "id": "2f5b3449",
   "metadata": {},
   "source": [
    "### 1.3 Load estimators"
   ]
  },
  {
   "cell_type": "code",
   "execution_count": 13,
   "id": "f43e7713",
   "metadata": {},
   "outputs": [
    {
     "name": "stdout",
     "output_type": "stream",
     "text": [
      "An absolute operation should be applied on the attributions, otherwise inconsistent results can be expected. Re-set 'abs' parameter.\n",
      "An absolute operation should be applied on the attributions, otherwise inconsistent results can be expected. Re-set 'abs' parameter.\n"
     ]
    },
    {
     "data": {
      "text/plain": [
       "{'Robustness': {'Max-Sensitivity': {'init': <quantus.metrics.robustness.max_sensitivity.MaxSensitivity at 0x15917a6a0>,\n",
       "   'score_direction': 'lower'},\n",
       "  'Local Lipschitz Estimate': {'init': <quantus.metrics.robustness.local_lipschitz_estimate.LocalLipschitzEstimate at 0x15917ad30>,\n",
       "   'score_direction': 'lower'}},\n",
       " 'Randomisation': {'Random Logit': {'init': <quantus.metrics.randomisation.random_logit.RandomLogit at 0x15917a8e0>,\n",
       "   'score_direction': 'lower'},\n",
       "  'Model Parameter Randomisation Test': {'init': <quantus.metrics.randomisation.model_parameter_randomisation.ModelParameterRandomisation at 0x15917a580>,\n",
       "   'score_direction': 'lower'}},\n",
       " 'Faithfulness': {'Faithfulness Correlation': {'init': <quantus.metrics.faithfulness.faithfulness_correlation.FaithfulnessCorrelation at 0x15917a5e0>,\n",
       "   'score_direction': 'higher'},\n",
       "  'Pixel-Flipping': {'init': <quantus.metrics.faithfulness.pixel_flipping.PixelFlipping at 0x15917a700>,\n",
       "   'score_direction': 'higher'}},\n",
       " 'Complexity': {'Sparseness': {'init': <quantus.metrics.complexity.sparseness.Sparseness at 0x15917ac70>,\n",
       "   'score_direction': 'higher'},\n",
       "  'Complexity': {'init': <quantus.metrics.complexity.complexity.Complexity at 0x15917aca0>,\n",
       "   'score_direction': 'lower'}},\n",
       " 'Localisation': {'Pointing-Game': {'init': <quantus.metrics.localisation.pointing_game.PointingGame at 0x15917adc0>,\n",
       "   'score_direction': 'higher'},\n",
       "  'Relevance Mass Accuracy': {'init': <quantus.metrics.localisation.relevance_mass_accuracy.RelevanceMassAccuracy at 0x1590c4fa0>,\n",
       "   'score_direction': 'higher'}}}"
      ]
     },
     "execution_count": 13,
     "metadata": {},
     "output_type": "execute_result"
    }
   ],
   "source": [
    "# Alt 1. Load initalised Quantus estimators, as provided in MetaQuantus.\n",
    "estimators = setup_estimators(\n",
    "    features=dataset_kwargs[\"features\"],\n",
    "    num_classes=dataset_kwargs[\"num_classes\"],\n",
    "    img_size=dataset_kwargs[\"img_size\"],\n",
    "    percentage=dataset_kwargs[\"percentage\"],\n",
    "    patch_size=dataset_kwargs[\"patch_size\"],\n",
    "    perturb_baseline=dataset_kwargs[\"perturb_baseline\"],\n",
    ")\n",
    "estimators"
   ]
  },
  {
   "cell_type": "code",
   "execution_count": 14,
   "id": "58bb36f1",
   "metadata": {},
   "outputs": [
    {
     "data": {
      "text/plain": [
       "{'init': <quantus.metrics.localisation.pointing_game.PointingGame at 0x15917adc0>,\n",
       " 'score_direction': 'higher'}"
      ]
     },
     "execution_count": 14,
     "metadata": {},
     "output_type": "execute_result"
    }
   ],
   "source": [
    "# Let's pick 'Pointing-Game' (Localisation metric) and its associated boolean, indicating if lower values are interpreted as better.\n",
    "estimators['Localisation']['Pointing-Game']"
   ]
  },
  {
   "cell_type": "code",
   "execution_count": 15,
   "id": "32a4b0f8",
   "metadata": {},
   "outputs": [],
   "source": [
    "# Alt 2. Define a set of estimators using Quantus, a broader set of Localisation metrics.\n",
    "\n",
    "estimators_localisation = {\n",
    "    \"Localisation\": {\n",
    "            \"Pointing-Game\": {\n",
    "                \"init\": \n",
    "                quantus.PointingGame(\n",
    "                    abs=False,\n",
    "                    normalise=True,\n",
    "                    normalise_func=quantus.normalise_func.normalise_by_max,\n",
    "                    return_aggregate=False,\n",
    "                    aggregate_func=np.mean,\n",
    "                    disable_warnings=True,\n",
    "             ), \"score_direction\": \"higher\"},\n",
    "             \"Top-K Intersection\": {\n",
    "                 \"init\": \n",
    "                     quantus.TopKIntersection(\n",
    "                k=10,\n",
    "                abs=False,\n",
    "                normalise=True,\n",
    "                normalise_func=quantus.normalise_func.normalise_by_max,\n",
    "                return_aggregate=False,\n",
    "                aggregate_func=np.mean,\n",
    "                disable_warnings=True,\n",
    "             ), \"score_direction\": \"higher\"},\n",
    "             \"Relevance Rank Accuracy\": {\n",
    "                 \"init\": \n",
    "                     quantus.RelevanceRankAccuracy(\n",
    "                abs=False,\n",
    "                normalise=True,\n",
    "                normalise_func=quantus.normalise_func.normalise_by_max,\n",
    "                return_aggregate=False,\n",
    "                aggregate_func=np.mean,\n",
    "                disable_warnings=True,\n",
    "             ), \"score_direction\": \"higher\"},\n",
    "            \"Relevance Mass Accuracy\": {\n",
    "                \"init\": \n",
    "                quantus.RelevanceMassAccuracy(\n",
    "                    abs=False,\n",
    "                    normalise=True,\n",
    "                    normalise_func=quantus.normalise_func.normalise_by_max,\n",
    "                    return_aggregate=False,\n",
    "                    aggregate_func=np.mean,\n",
    "                    disable_warnings=True,\n",
    "                ),\n",
    "                \"score_direction\": \"higher\",\n",
    "            },\n",
    "        }\n",
    "    }"
   ]
  },
  {
   "cell_type": "markdown",
   "id": "06f99ef2",
   "metadata": {},
   "source": [
    "## 2) Run Meta-Evaluation"
   ]
  },
  {
   "cell_type": "markdown",
   "id": "227f901e",
   "metadata": {},
   "source": [
    "### 2.1 Define test suite\n",
    "\n",
    "We define the Input Perturbation Test and Model Perturbation Test in order to evaluate the estimators."
   ]
  },
  {
   "cell_type": "code",
   "execution_count": 16,
   "id": "a2829844",
   "metadata": {},
   "outputs": [],
   "source": [
    "from metaquantus import ModelPerturbationTest, InputPerturbationTest\n",
    "from metaquantus import MetaEvaluation, MetaEvaluationBenchmarking"
   ]
  },
  {
   "cell_type": "code",
   "execution_count": 17,
   "id": "9cdb1041",
   "metadata": {},
   "outputs": [],
   "source": [
    "# Define test suite.\n",
    "test_suite = {\n",
    "        \"Model Resilience Test\": ModelPerturbationTest(\n",
    "            **{\n",
    "                \"noise_type\": \"multiplicative\",\n",
    "                \"mean\": 1.0,\n",
    "                \"std\": 0.001,\n",
    "                \"type\": \"Resilience\",\n",
    "            }\n",
    "        ),\n",
    "        \"Model Adversary Test\": ModelPerturbationTest(\n",
    "            **{\n",
    "                \"noise_type\": \"multiplicative\",\n",
    "                \"mean\": 1.0,\n",
    "                \"std\": 2.0,\n",
    "                \"type\": \"Adversary\",\n",
    "            }\n",
    "        ),\n",
    "        \"Input Resilience Test\": InputPerturbationTest(\n",
    "            **{\n",
    "                \"noise\": 0.001,\n",
    "                \"type\": \"Resilience\",\n",
    "            }\n",
    "        ),\n",
    "        \"Input Adversary Test\": InputPerturbationTest(\n",
    "            **{\n",
    "                \"noise\": 5.0,\n",
    "                \"type\": \"Adversary\",\n",
    "            }\n",
    "        ),\n",
    "    }"
   ]
  },
  {
   "cell_type": "markdown",
   "id": "01805a22",
   "metadata": {},
   "source": [
    "### 2.2 Run MetaQuantus\n",
    "\n",
    "Run the meta-evalaution tests on the Sparseness metric (Chalasani et al., 2020) which uses the Gini Index for measuring explaantion quality."
   ]
  },
  {
   "cell_type": "code",
   "execution_count": 18,
   "id": "4486a8c5",
   "metadata": {},
   "outputs": [
    {
     "name": "stdout",
     "output_type": "stream",
     "text": [
      "UID=965a\n",
      "Model Resilience Test\n"
     ]
    },
    {
     "data": {
      "application/json": {
       "ascii": false,
       "bar_format": null,
       "colour": null,
       "elapsed": 0.00410008430480957,
       "initial": 0,
       "n": 0,
       "ncols": null,
       "nrows": null,
       "postfix": null,
       "prefix": "Iterations",
       "rate": null,
       "total": 5,
       "unit": "it",
       "unit_divisor": 1000,
       "unit_scale": false
      },
      "application/vnd.jupyter.widget-view+json": {
       "model_id": "3b69b7cd6fbe4ba8be95852205681342",
       "version_major": 2,
       "version_minor": 0
      },
      "text/plain": [
       "Iterations:   0%|          | 0/5 [00:00<?, ?it/s]"
      ]
     },
     "metadata": {},
     "output_type": "display_data"
    },
    {
     "name": "stdout",
     "output_type": "stream",
     "text": [
      "Model Adversary Test\n"
     ]
    },
    {
     "data": {
      "application/json": {
       "ascii": false,
       "bar_format": null,
       "colour": null,
       "elapsed": 0.004380226135253906,
       "initial": 0,
       "n": 0,
       "ncols": null,
       "nrows": null,
       "postfix": null,
       "prefix": "Iterations",
       "rate": null,
       "total": 5,
       "unit": "it",
       "unit_divisor": 1000,
       "unit_scale": false
      },
      "application/vnd.jupyter.widget-view+json": {
       "model_id": "98936ff0ccee4dbda8a45c2b7a67b804",
       "version_major": 2,
       "version_minor": 0
      },
      "text/plain": [
       "Iterations:   0%|          | 0/5 [00:00<?, ?it/s]"
      ]
     },
     "metadata": {},
     "output_type": "display_data"
    },
    {
     "name": "stdout",
     "output_type": "stream",
     "text": [
      "Input Resilience Test\n"
     ]
    },
    {
     "data": {
      "application/json": {
       "ascii": false,
       "bar_format": null,
       "colour": null,
       "elapsed": 0.003577709197998047,
       "initial": 0,
       "n": 0,
       "ncols": null,
       "nrows": null,
       "postfix": null,
       "prefix": "Iterations",
       "rate": null,
       "total": 5,
       "unit": "it",
       "unit_divisor": 1000,
       "unit_scale": false
      },
      "application/vnd.jupyter.widget-view+json": {
       "model_id": "ca14c27cd3ea4635bd598b362d171bd6",
       "version_major": 2,
       "version_minor": 0
      },
      "text/plain": [
       "Iterations:   0%|          | 0/5 [00:00<?, ?it/s]"
      ]
     },
     "metadata": {},
     "output_type": "display_data"
    },
    {
     "name": "stdout",
     "output_type": "stream",
     "text": [
      "Input Adversary Test\n"
     ]
    },
    {
     "data": {
      "application/json": {
       "ascii": false,
       "bar_format": null,
       "colour": null,
       "elapsed": 0.0035829544067382812,
       "initial": 0,
       "n": 0,
       "ncols": null,
       "nrows": null,
       "postfix": null,
       "prefix": "Iterations",
       "rate": null,
       "total": 5,
       "unit": "it",
       "unit_divisor": 1000,
       "unit_scale": false
      },
      "application/vnd.jupyter.widget-view+json": {
       "model_id": "1d432f9aa1f34d658aecb6ca89903178",
       "version_major": 2,
       "version_minor": 0
      },
      "text/plain": [
       "Iterations:   0%|          | 0/5 [00:00<?, ?it/s]"
      ]
     },
     "metadata": {},
     "output_type": "display_data"
    },
    {
     "data": {
      "text/plain": [
       "<metaquantus.meta_evaluation.MetaEvaluation at 0x1592f2130>"
      ]
     },
     "execution_count": 18,
     "metadata": {},
     "output_type": "execute_result"
    }
   ],
   "source": [
    "########################\n",
    "# Master run settings. #\n",
    "########################\n",
    "\n",
    "# Define metric.\n",
    "estimator_category = \"Complexity\"\n",
    "estimator_name = \"Sparseness\"\n",
    "\n",
    "# Set configs.\n",
    "iters = 5\n",
    "K = 10\n",
    "\n",
    "# Define the meta-evaluation exercise.\n",
    "meta_evaluator = MetaEvaluation(\n",
    "    test_suite=test_suite,\n",
    "    xai_methods=xai_methods,\n",
    "    iterations=iters,\n",
    "    nr_perturbations=K,\n",
    "    write_to_file=False,\n",
    ")\n",
    "\n",
    "# Run the meta-evaluation.\n",
    "meta_evaluator(\n",
    "    estimator=estimators[estimator_category][estimator_name][\"init\"],\n",
    "    model=dataset_settings[dataset_name][\"models\"][model_name],\n",
    "    x_batch=dataset_settings[dataset_name][\"x_batch\"],\n",
    "    y_batch=dataset_settings[dataset_name][\"y_batch\"],\n",
    "    a_batch=None,\n",
    "    s_batch=dataset_settings[dataset_name][\"s_batch\"],\n",
    "    device=device,\n",
    "    score_direction=estimators[estimator_category][estimator_name][\"score_direction\"],\n",
    ")"
   ]
  },
  {
   "cell_type": "markdown",
   "id": "8c55c8ec",
   "metadata": {},
   "source": [
    "## 3) Run Benchmarking"
   ]
  },
  {
   "cell_type": "code",
   "execution_count": 21,
   "id": "bd88ced6",
   "metadata": {},
   "outputs": [
    {
     "name": "stdout",
     "output_type": "stream",
     "text": [
      "MNIST\n",
      "  LeNet\n",
      "    Localisation\n",
      "      Pointing-Game\n",
      "UID=6c40\n",
      "Model Resilience Test\n"
     ]
    },
    {
     "data": {
      "application/json": {
       "ascii": false,
       "bar_format": null,
       "colour": null,
       "elapsed": 0.005079030990600586,
       "initial": 0,
       "n": 0,
       "ncols": null,
       "nrows": null,
       "postfix": null,
       "prefix": "Iterations",
       "rate": null,
       "total": 5,
       "unit": "it",
       "unit_divisor": 1000,
       "unit_scale": false
      },
      "application/vnd.jupyter.widget-view+json": {
       "model_id": "30a21d82b8c643c882e1e2344818124b",
       "version_major": 2,
       "version_minor": 0
      },
      "text/plain": [
       "Iterations:   0%|          | 0/5 [00:00<?, ?it/s]"
      ]
     },
     "metadata": {},
     "output_type": "display_data"
    },
    {
     "name": "stdout",
     "output_type": "stream",
     "text": [
      "Model Adversary Test\n"
     ]
    },
    {
     "data": {
      "application/json": {
       "ascii": false,
       "bar_format": null,
       "colour": null,
       "elapsed": 0.0051877498626708984,
       "initial": 0,
       "n": 0,
       "ncols": null,
       "nrows": null,
       "postfix": null,
       "prefix": "Iterations",
       "rate": null,
       "total": 5,
       "unit": "it",
       "unit_divisor": 1000,
       "unit_scale": false
      },
      "application/vnd.jupyter.widget-view+json": {
       "model_id": "48788bb30f624863a260c554cb5c9620",
       "version_major": 2,
       "version_minor": 0
      },
      "text/plain": [
       "Iterations:   0%|          | 0/5 [00:00<?, ?it/s]"
      ]
     },
     "metadata": {},
     "output_type": "display_data"
    },
    {
     "name": "stdout",
     "output_type": "stream",
     "text": [
      "Input Resilience Test\n"
     ]
    },
    {
     "data": {
      "application/json": {
       "ascii": false,
       "bar_format": null,
       "colour": null,
       "elapsed": 0.005507230758666992,
       "initial": 0,
       "n": 0,
       "ncols": null,
       "nrows": null,
       "postfix": null,
       "prefix": "Iterations",
       "rate": null,
       "total": 5,
       "unit": "it",
       "unit_divisor": 1000,
       "unit_scale": false
      },
      "application/vnd.jupyter.widget-view+json": {
       "model_id": "34b6c435d90c4345acdb30e6b23aa5e0",
       "version_major": 2,
       "version_minor": 0
      },
      "text/plain": [
       "Iterations:   0%|          | 0/5 [00:00<?, ?it/s]"
      ]
     },
     "metadata": {},
     "output_type": "display_data"
    },
    {
     "name": "stdout",
     "output_type": "stream",
     "text": [
      "Input Adversary Test\n"
     ]
    },
    {
     "data": {
      "application/json": {
       "ascii": false,
       "bar_format": null,
       "colour": null,
       "elapsed": 0.006079912185668945,
       "initial": 0,
       "n": 0,
       "ncols": null,
       "nrows": null,
       "postfix": null,
       "prefix": "Iterations",
       "rate": null,
       "total": 5,
       "unit": "it",
       "unit_divisor": 1000,
       "unit_scale": false
      },
      "application/vnd.jupyter.widget-view+json": {
       "model_id": "dc122daa18a047808861f46ec1ac7efb",
       "version_major": 2,
       "version_minor": 0
      },
      "text/plain": [
       "Iterations:   0%|          | 0/5 [00:00<?, ?it/s]"
      ]
     },
     "metadata": {},
     "output_type": "display_data"
    },
    {
     "name": "stdout",
     "output_type": "stream",
     "text": [
      "      Top-K Intersection\n",
      "UID=6c40\n",
      "Model Resilience Test\n"
     ]
    },
    {
     "data": {
      "application/json": {
       "ascii": false,
       "bar_format": null,
       "colour": null,
       "elapsed": 0.003710031509399414,
       "initial": 0,
       "n": 0,
       "ncols": null,
       "nrows": null,
       "postfix": null,
       "prefix": "Iterations",
       "rate": null,
       "total": 5,
       "unit": "it",
       "unit_divisor": 1000,
       "unit_scale": false
      },
      "application/vnd.jupyter.widget-view+json": {
       "model_id": "cb60e33fad5140a9b655dc5711ca546b",
       "version_major": 2,
       "version_minor": 0
      },
      "text/plain": [
       "Iterations:   0%|          | 0/5 [00:00<?, ?it/s]"
      ]
     },
     "metadata": {},
     "output_type": "display_data"
    },
    {
     "name": "stdout",
     "output_type": "stream",
     "text": [
      "Model Adversary Test\n"
     ]
    },
    {
     "data": {
      "application/json": {
       "ascii": false,
       "bar_format": null,
       "colour": null,
       "elapsed": 0.003626108169555664,
       "initial": 0,
       "n": 0,
       "ncols": null,
       "nrows": null,
       "postfix": null,
       "prefix": "Iterations",
       "rate": null,
       "total": 5,
       "unit": "it",
       "unit_divisor": 1000,
       "unit_scale": false
      },
      "application/vnd.jupyter.widget-view+json": {
       "model_id": "1b1cf2cba47c4011b146cd7802dbae84",
       "version_major": 2,
       "version_minor": 0
      },
      "text/plain": [
       "Iterations:   0%|          | 0/5 [00:00<?, ?it/s]"
      ]
     },
     "metadata": {},
     "output_type": "display_data"
    },
    {
     "name": "stdout",
     "output_type": "stream",
     "text": [
      "Input Resilience Test\n"
     ]
    },
    {
     "data": {
      "application/json": {
       "ascii": false,
       "bar_format": null,
       "colour": null,
       "elapsed": 0.00356292724609375,
       "initial": 0,
       "n": 0,
       "ncols": null,
       "nrows": null,
       "postfix": null,
       "prefix": "Iterations",
       "rate": null,
       "total": 5,
       "unit": "it",
       "unit_divisor": 1000,
       "unit_scale": false
      },
      "application/vnd.jupyter.widget-view+json": {
       "model_id": "b23a904193e74544a3eafabbbb080526",
       "version_major": 2,
       "version_minor": 0
      },
      "text/plain": [
       "Iterations:   0%|          | 0/5 [00:00<?, ?it/s]"
      ]
     },
     "metadata": {},
     "output_type": "display_data"
    },
    {
     "name": "stdout",
     "output_type": "stream",
     "text": [
      "Input Adversary Test\n"
     ]
    },
    {
     "data": {
      "application/json": {
       "ascii": false,
       "bar_format": null,
       "colour": null,
       "elapsed": 0.004541873931884766,
       "initial": 0,
       "n": 0,
       "ncols": null,
       "nrows": null,
       "postfix": null,
       "prefix": "Iterations",
       "rate": null,
       "total": 5,
       "unit": "it",
       "unit_divisor": 1000,
       "unit_scale": false
      },
      "application/vnd.jupyter.widget-view+json": {
       "model_id": "8e7bd18941e243a59d67a7e4a213307b",
       "version_major": 2,
       "version_minor": 0
      },
      "text/plain": [
       "Iterations:   0%|          | 0/5 [00:00<?, ?it/s]"
      ]
     },
     "metadata": {},
     "output_type": "display_data"
    },
    {
     "name": "stdout",
     "output_type": "stream",
     "text": [
      "      Relevance Rank Accuracy\n",
      "UID=6c40\n",
      "Model Resilience Test\n"
     ]
    },
    {
     "data": {
      "application/json": {
       "ascii": false,
       "bar_format": null,
       "colour": null,
       "elapsed": 0.0036597251892089844,
       "initial": 0,
       "n": 0,
       "ncols": null,
       "nrows": null,
       "postfix": null,
       "prefix": "Iterations",
       "rate": null,
       "total": 5,
       "unit": "it",
       "unit_divisor": 1000,
       "unit_scale": false
      },
      "application/vnd.jupyter.widget-view+json": {
       "model_id": "5cc7d17c26de4fb3ab6926b017315953",
       "version_major": 2,
       "version_minor": 0
      },
      "text/plain": [
       "Iterations:   0%|          | 0/5 [00:00<?, ?it/s]"
      ]
     },
     "metadata": {},
     "output_type": "display_data"
    },
    {
     "name": "stdout",
     "output_type": "stream",
     "text": [
      "Model Adversary Test\n"
     ]
    },
    {
     "data": {
      "application/json": {
       "ascii": false,
       "bar_format": null,
       "colour": null,
       "elapsed": 0.0042266845703125,
       "initial": 0,
       "n": 0,
       "ncols": null,
       "nrows": null,
       "postfix": null,
       "prefix": "Iterations",
       "rate": null,
       "total": 5,
       "unit": "it",
       "unit_divisor": 1000,
       "unit_scale": false
      },
      "application/vnd.jupyter.widget-view+json": {
       "model_id": "5239195ad4e14c8da97238212c5b51c3",
       "version_major": 2,
       "version_minor": 0
      },
      "text/plain": [
       "Iterations:   0%|          | 0/5 [00:00<?, ?it/s]"
      ]
     },
     "metadata": {},
     "output_type": "display_data"
    },
    {
     "name": "stdout",
     "output_type": "stream",
     "text": [
      "Input Resilience Test\n"
     ]
    },
    {
     "data": {
      "application/json": {
       "ascii": false,
       "bar_format": null,
       "colour": null,
       "elapsed": 0.0038909912109375,
       "initial": 0,
       "n": 0,
       "ncols": null,
       "nrows": null,
       "postfix": null,
       "prefix": "Iterations",
       "rate": null,
       "total": 5,
       "unit": "it",
       "unit_divisor": 1000,
       "unit_scale": false
      },
      "application/vnd.jupyter.widget-view+json": {
       "model_id": "24da8b5f50544f3f826307c0cb0f8f27",
       "version_major": 2,
       "version_minor": 0
      },
      "text/plain": [
       "Iterations:   0%|          | 0/5 [00:00<?, ?it/s]"
      ]
     },
     "metadata": {},
     "output_type": "display_data"
    },
    {
     "name": "stdout",
     "output_type": "stream",
     "text": [
      "Input Adversary Test\n"
     ]
    },
    {
     "data": {
      "application/json": {
       "ascii": false,
       "bar_format": null,
       "colour": null,
       "elapsed": 0.0037708282470703125,
       "initial": 0,
       "n": 0,
       "ncols": null,
       "nrows": null,
       "postfix": null,
       "prefix": "Iterations",
       "rate": null,
       "total": 5,
       "unit": "it",
       "unit_divisor": 1000,
       "unit_scale": false
      },
      "application/vnd.jupyter.widget-view+json": {
       "model_id": "25055b24b49e4377903adc40713fb9e9",
       "version_major": 2,
       "version_minor": 0
      },
      "text/plain": [
       "Iterations:   0%|          | 0/5 [00:00<?, ?it/s]"
      ]
     },
     "metadata": {},
     "output_type": "display_data"
    },
    {
     "name": "stdout",
     "output_type": "stream",
     "text": [
      "      Relevance Mass Accuracy\n",
      "UID=6c40\n",
      "Model Resilience Test\n"
     ]
    },
    {
     "data": {
      "application/json": {
       "ascii": false,
       "bar_format": null,
       "colour": null,
       "elapsed": 0.004706859588623047,
       "initial": 0,
       "n": 0,
       "ncols": null,
       "nrows": null,
       "postfix": null,
       "prefix": "Iterations",
       "rate": null,
       "total": 5,
       "unit": "it",
       "unit_divisor": 1000,
       "unit_scale": false
      },
      "application/vnd.jupyter.widget-view+json": {
       "model_id": "4e1dbe982f1446df8569750a9125a0a6",
       "version_major": 2,
       "version_minor": 0
      },
      "text/plain": [
       "Iterations:   0%|          | 0/5 [00:00<?, ?it/s]"
      ]
     },
     "metadata": {},
     "output_type": "display_data"
    },
    {
     "name": "stdout",
     "output_type": "stream",
     "text": [
      "Model Adversary Test\n"
     ]
    },
    {
     "data": {
      "application/json": {
       "ascii": false,
       "bar_format": null,
       "colour": null,
       "elapsed": 0.005109071731567383,
       "initial": 0,
       "n": 0,
       "ncols": null,
       "nrows": null,
       "postfix": null,
       "prefix": "Iterations",
       "rate": null,
       "total": 5,
       "unit": "it",
       "unit_divisor": 1000,
       "unit_scale": false
      },
      "application/vnd.jupyter.widget-view+json": {
       "model_id": "35930f82b7634b66ab13a836720e9206",
       "version_major": 2,
       "version_minor": 0
      },
      "text/plain": [
       "Iterations:   0%|          | 0/5 [00:00<?, ?it/s]"
      ]
     },
     "metadata": {},
     "output_type": "display_data"
    },
    {
     "name": "stdout",
     "output_type": "stream",
     "text": [
      "Input Resilience Test\n"
     ]
    },
    {
     "data": {
      "application/json": {
       "ascii": false,
       "bar_format": null,
       "colour": null,
       "elapsed": 0.0050847530364990234,
       "initial": 0,
       "n": 0,
       "ncols": null,
       "nrows": null,
       "postfix": null,
       "prefix": "Iterations",
       "rate": null,
       "total": 5,
       "unit": "it",
       "unit_divisor": 1000,
       "unit_scale": false
      },
      "application/vnd.jupyter.widget-view+json": {
       "model_id": "dc75814a10134947bcf6e8382abc98a4",
       "version_major": 2,
       "version_minor": 0
      },
      "text/plain": [
       "Iterations:   0%|          | 0/5 [00:00<?, ?it/s]"
      ]
     },
     "metadata": {},
     "output_type": "display_data"
    },
    {
     "name": "stdout",
     "output_type": "stream",
     "text": [
      "Input Adversary Test\n"
     ]
    },
    {
     "data": {
      "application/json": {
       "ascii": false,
       "bar_format": null,
       "colour": null,
       "elapsed": 0.004801034927368164,
       "initial": 0,
       "n": 0,
       "ncols": null,
       "nrows": null,
       "postfix": null,
       "prefix": "Iterations",
       "rate": null,
       "total": 5,
       "unit": "it",
       "unit_divisor": 1000,
       "unit_scale": false
      },
      "application/vnd.jupyter.widget-view+json": {
       "model_id": "151dd1f319fd4cd1a603a2a5d11f3f2e",
       "version_major": 2,
       "version_minor": 0
      },
      "text/plain": [
       "Iterations:   0%|          | 0/5 [00:00<?, ?it/s]"
      ]
     },
     "metadata": {},
     "output_type": "display_data"
    },
    {
     "name": "stdout",
     "output_type": "stream",
     "text": [
      "Benchmarking completed (stored in /content/drive/MyDrive/Projects/MetaQuantus/results/benchmarks/04092023_MNIST_benchmark_exercise_6c40_MNIST_LeNet_Localisation_Relevance Mass Accuracy_MNIST_LeNet_Localisation_Pointing-Game).\n"
     ]
    }
   ],
   "source": [
    "# Benchmark localisation metrics, using the intialised meta-evaluator.\n",
    "benchmark = MetaEvaluationBenchmarking(\n",
    "    master=meta_evaluator,\n",
    "    estimators=estimators_localisation,\n",
    "    experimental_settings=dataset_settings,\n",
    "    device=device,\n",
    ")()"
   ]
  },
  {
   "cell_type": "code",
   "execution_count": null,
   "id": "e1a7bc45",
   "metadata": {},
   "outputs": [],
   "source": []
  }
 ],
 "metadata": {
  "kernelspec": {
   "display_name": "Python 3 (ipykernel)",
   "language": "python",
   "name": "python3"
  },
  "language_info": {
   "codemirror_mode": {
    "name": "ipython",
    "version": 3
   },
   "file_extension": ".py",
   "mimetype": "text/x-python",
   "name": "python",
   "nbconvert_exporter": "python",
   "pygments_lexer": "ipython3",
   "version": "3.9.17"
  }
 },
 "nbformat": 4,
 "nbformat_minor": 5
}
